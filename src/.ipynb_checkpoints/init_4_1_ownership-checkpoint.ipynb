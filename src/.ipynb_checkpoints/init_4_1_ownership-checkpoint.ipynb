{
 "cells": [
  {
   "cell_type": "markdown",
   "id": "3a0ccc78-93be-4093-b32c-7f3f87666e3d",
   "metadata": {},
   "source": [
    "# 4.1 Ownership"
   ]
  },
  {
   "cell_type": "markdown",
   "id": "b44950c2-2568-47fb-b437-f00964196e6e",
   "metadata": {},
   "source": [
    "### CODE 1 - OWNERSHIP RULES"
   ]
  },
  {
   "cell_type": "markdown",
   "id": "07a6f77c-cf0d-4782-b819-bc9a6215b61d",
   "metadata": {},
   "source": [
    "Each value in Rust has an owner.\\\n",
    "There can only be one owner at a time.\\\n",
    "When the owner goes out of scope, the value will be dropped."
   ]
  },
  {
   "cell_type": "code",
   "execution_count": 5,
   "id": "2a2ba5af-82d1-4df7-8092-cd5c1b08ce72",
   "metadata": {
    "collapsed": true,
    "jupyter": {
     "outputs_hidden": true
    }
   },
   "outputs": [
    {
     "data": {
      "text/plain": [
       "()"
      ]
     },
     "execution_count": 5,
     "metadata": {},
     "output_type": "execute_result"
    }
   ],
   "source": [
    "{\n",
    "    // s is not valid here, it’s not yet declared\n",
    "    let s = \"hello\"; // s is valid from this point forward\n",
    "\n",
    "    // do stuff with s\n",
    "} // this scope is now over, and s is no longer valid"
   ]
  },
  {
   "cell_type": "markdown",
   "id": "b0bf53fa-7bdc-4f64-8989-f79b3964fef3",
   "metadata": {},
   "source": [
    "### CODE 2 - OWNERSHIP ON STACK AND HEAP"
   ]
  },
  {
   "cell_type": "markdown",
   "id": "8e2b8528-d970-419d-99f2-1a39bdc4b269",
   "metadata": {},
   "source": [
    "We can probably guess what this is doing: “bind the value 5 to x; then make a copy of the value in x and bind it to y.” We now have two variables, x and y, and both equal 5. This is indeed what is happening, because integers are simple values with a known, fixed size, and these two 5 values are pushed onto the stack."
   ]
  },
  {
   "cell_type": "code",
   "execution_count": 2,
   "id": "a9ba40c2-97ab-4468-8774-fc6f28e9bb63",
   "metadata": {},
   "outputs": [],
   "source": [
    "let x = 5;\n",
    "let y = x;"
   ]
  },
  {
   "cell_type": "markdown",
   "id": "e733e856-83fb-48ac-be97-224af8e7bbf8",
   "metadata": {},
   "source": [
    "Now let’s look at the String version:"
   ]
  },
  {
   "cell_type": "code",
   "execution_count": 3,
   "id": "f070c6e7-c496-4580-8555-c7428157552b",
   "metadata": {},
   "outputs": [],
   "source": [
    "let s1 = String::from(\"hello\");\n",
    "let s2 = s1;"
   ]
  },
  {
   "attachments": {
    "e3e1ad57-a865-4929-b0af-9ecf88541825.png": {
     "image/png": "[encoded data removed]"
    }
   },
   "cell_type": "markdown",
   "id": "ebaf2749-0986-41d6-ad27-575ab44aaf8c",
   "metadata": {},
   "source": [
    "![image.png](attachment:e3e1ad57-a865-4929-b0af-9ecf88541825.png)"
   ]
  },
  {
   "cell_type": "code",
   "execution_count": null,
   "id": "237532b5-4e6a-4ff3-9528-2a711b42adf9",
   "metadata": {},
   "outputs": [],
   "source": []
  }
 ],
 "metadata": {
  "kernelspec": {
   "display_name": "Rust",
   "language": "rust",
   "name": "rust"
  },
  "language_info": {
   "codemirror_mode": "rust",
   "file_extension": ".rs",
   "mimetype": "text/rust",
   "name": "Rust",
   "pygment_lexer": "rust",
   "version": ""
  }
 },
 "nbformat": 4,
 "nbformat_minor": 5
}
